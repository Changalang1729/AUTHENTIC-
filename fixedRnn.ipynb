{
 "cells": [
  {
   "cell_type": "code",
   "execution_count": null,
   "metadata": {},
   "outputs": [],
   "source": [
    "#based off thishttps://towardsdatascience.com/sentiment-analysis-using-lstm-step-by-step-50d074f09948\n",
    "#https://machinetalk.org/2019/03/18/introduction-to-tensorflow-datasets/\n",
    "#my chemistry senior project"
   ]
  },
  {
   "cell_type": "code",
   "execution_count": 1,
   "metadata": {},
   "outputs": [],
   "source": [
    "import torch\n",
    "import torch.nn as nn\n",
    "import torch.nn.functional as F\n",
    "import numpy as np\n",
    "from collections import Counter\n",
    "import os\n",
    "\n",
    "total = 512\n",
    "\n",
    "def file_reader():\n",
    "    \n",
    "    batch_size = 16\n",
    "    seq_size = 32\n",
    "    \n",
    "    with open('/Users/weichiang/Desktop/warpeace_input.txt', 'r', encoding='utf-8') as f:\n",
    "        text = f.read()\n",
    "    text = text.split()\n",
    "    counter = Counter(text)\n",
    "    dict_counter = dict(counter)\n",
    "    v = sorted(list(dict_counter.items()), key=lambda item: item[1], reverse = True)\n",
    "    v_sorted = [x[0] for x in v]\n",
    "    enum_int_vocab = {k: w for k, w in enumerate(v_sorted)}\n",
    "    enum_vocab_int = {w: k for k, w in enum_int_vocab.items()}\n",
    "    print (len(enum_int_vocab))\n",
    "\n",
    "    mega = [enum_vocab_int[article] for article in text]\n",
    "    total_batches = int(len(mega) / (seq_size * batch_size))\n",
    "    \n",
    "    #wanted to use total batches so divisible by 8/16/32...\n",
    "    amnt_mega = total_batches*batch_size * seq_size\n",
    "    text = mega[:amnt_mega]\n",
    "    nptext = np.zeros_like(text)\n",
    "    index = 1\n",
    "    \n",
    "    for i in reversed(range(len(nptext)-1)):\n",
    "        nptext[i] = text[index]\n",
    "        index +=1\n",
    "    nptext[-1] = text[0]\n",
    "\n",
    "    text = np.reshape(text, (batch_size, -1))\n",
    "    nptext = np.reshape(nptext, (batch_size, -1))\n",
    "    \n",
    "    return enum_int_vocab, enum_vocab_int, text, nptext, len(enum_int_vocab)"
   ]
  },
  {
   "cell_type": "code",
   "execution_count": 2,
   "metadata": {},
   "outputs": [],
   "source": [
    "def batch_gen(text, nptext, batch_size, seq_size):\n",
    "    for i in range(0, np.prod(text.shape) // (total) * seq_size, seq_size):\n",
    "        yield text[:, i:i+seq_size], nptext[:, i:i+seq_size]"
   ]
  },
  {
   "cell_type": "code",
   "execution_count": 3,
   "metadata": {},
   "outputs": [],
   "source": [
    "class RNN(nn.Module):\n",
    "#     length = len(enum_int_vocab)\n",
    "#embedding_dim = 64\n",
    "#layers = 2\n",
    "#size = lstm_size\n",
    "    def __init__(self, length, embedding_dim, layers, size):\n",
    "        super(RNN, self).__init__()\n",
    "        self.size = size\n",
    "        self.embedding = nn.Embedding(length, embedding_dim)\n",
    "        self.lstm = nn.LSTM(embedding_dim,layers,batch_first=True,dropout = 0.2)\n",
    "        self.dense = nn.Linear(size, length)\n",
    "\n",
    "    def forward(self, x, prev_state):\n",
    "        e = self.embedding(x)\n",
    "        output, state = self.lstm(e, prev_state)\n",
    "        result = self.dense(output)\n",
    "\n",
    "        return result, state"
   ]
  },
  {
   "cell_type": "code",
   "execution_count": 4,
   "metadata": {},
   "outputs": [],
   "source": [
    "def predict(net, length, enum_vocab_int, enum_int_vocab):\n",
    "    net.eval()\n",
    "    start = ['I', 'is']\n",
    "    criterion, optimizer = nn.CrossEntropyLoss(), torch.optim.Adam(net.parameters(), 0.001)\n",
    "    \n",
    "    hidden_state, state = torch.zeros(1, 1, net.size), torch.zeros(1, 1, net.size)\n",
    "\n",
    "    for words in start:\n",
    "        output, (hidden_state, state) = net(torch.tensor([[enum_vocab_int[words]]]), (hidden_state, state))\n",
    "\n",
    "    blank, top_pick = torch.topk(output[0], k=5)\n",
    "    choice = np.random.choice(top_pick.tolist()[0])\n",
    "\n",
    "    start.append(enum_int_vocab[choice])\n",
    "\n",
    "    for x in range(100):\n",
    "        output, (hidden_state, state) = net(torch.tensor([[choice]]), (hidden_state, state))\n",
    "\n",
    "        x, top_pick = torch.topk(output[0], k=5)\n",
    "        choices = top_pick.tolist()\n",
    "        choice = np.random.choice(choices[0])\n",
    "        start.append(enum_int_vocab[choice])\n",
    "\n",
    "    print(' '.join(words).encode('utf-8'))"
   ]
  },
  {
   "cell_type": "code",
   "execution_count": 7,
   "metadata": {},
   "outputs": [],
   "source": [
    "def main():\n",
    "    enum_int_vocab, enum_vocab_int, text, nptext, length = file_reader()\n",
    "    net = RNN(length, 32, 64, 64)\n",
    "    criterion, optimizer = nn.CrossEntropyLoss(), torch.optim.Adam(net.parameters(), 0.001)\n",
    "    index = 0\n",
    "\n",
    "    for i in range(200):\n",
    "        batches = batch_gen(text, nptext, 16, 32)\n",
    "        hidden_state, state = torch.zeros(1, 16, net.size), torch.zeros(1, 16, net.size)\n",
    "        \n",
    "        for x, y in batches:\n",
    "            index += 1\n",
    "            net.train()\n",
    "\n",
    "            optimizer.zero_grad()\n",
    "\n",
    "            x = torch.tensor(x)\n",
    "            y = torch.tensor(y)\n",
    "\n",
    "            result, (hidden_state, state) = net(x, (hidden_state, state))\n",
    "            loss = criterion(result.transpose(1, 2), y)\n",
    "            loss.backward()\n",
    "\n",
    "\n",
    "            hidden_state = hidden_state.detach()\n",
    "            state = state.detach()\n",
    "\n",
    "            _ = torch.nn.utils.clip_grad_norm_(net.parameters(), 5)\n",
    "            optimizer.step()\n",
    "            \n",
    "            if index % 10 == 0:\n",
    "                print('Epoch: {}/{}'.format(i, 200),\n",
    "                      'Iteration: {}'.format(index),\n",
    "                      'Loss: {}'.format(loss.item()))\n",
    "                \n",
    "            if index % 10 == 0:\n",
    "                predict(net, length, enum_vocab_int, enum_int_vocab)"
   ]
  },
  {
   "cell_type": "code",
   "execution_count": null,
   "metadata": {},
   "outputs": [
    {
     "name": "stdout",
     "output_type": "stream",
     "text": [
      "41566\n",
      "Epoch: 0/200 Iteration: 10 Loss: 10.603655815124512\n",
      "b'i s'\n",
      "Epoch: 0/200 Iteration: 20 Loss: 10.49414348602295\n",
      "b'i s'\n",
      "Epoch: 0/200 Iteration: 30 Loss: 9.81558609008789\n",
      "b'i s'\n"
     ]
    }
   ],
   "source": [
    "\n",
    "if __name__ == '__main__':\n",
    "    main()"
   ]
  },
  {
   "cell_type": "code",
   "execution_count": null,
   "metadata": {},
   "outputs": [],
   "source": []
  }
 ],
 "metadata": {
  "kernelspec": {
   "display_name": "Python 3",
   "language": "python",
   "name": "python3"
  },
  "language_info": {
   "codemirror_mode": {
    "name": "ipython",
    "version": 3
   },
   "file_extension": ".py",
   "mimetype": "text/x-python",
   "name": "python",
   "nbconvert_exporter": "python",
   "pygments_lexer": "ipython3",
   "version": "3.7.3"
  }
 },
 "nbformat": 4,
 "nbformat_minor": 2
}
