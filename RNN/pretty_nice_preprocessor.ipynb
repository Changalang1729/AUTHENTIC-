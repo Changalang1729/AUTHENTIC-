{
 "cells": [
  {
   "cell_type": "code",
   "execution_count": 116,
   "metadata": {},
   "outputs": [],
   "source": [
    "import numpy as np\n",
    "import csv\n",
    "import pandas as pd\n",
    "\n",
    "from sklearn import decomposition\n",
    "from sklearn import datasets\n",
    "from sklearn.preprocessing import StandardScaler\n",
    "from sklearn.feature_extraction.text import TfidfVectorizer\n",
    "\n",
    "import re\n",
    "import math\n",
    "\n",
    "import nltk\n",
    "from nltk.tokenize import word_tokenize\n",
    "from nltk.corpus import stopwords\n",
    "ps = nltk.stem.PorterStemmer()\n",
    "\n",
    "import matplotlib.pyplot as plt\n",
    "%matplotlib inline\n",
    "from collections import Counter\n"
   ]
  },
  {
   "cell_type": "code",
   "execution_count": 117,
   "metadata": {},
   "outputs": [],
   "source": [
    "def rm_spec_characters(s):\n",
    "    processed_string = re.sub('[^\\w\\s]', '', s)\n",
    "    processed_string = re.sub('_', '', processed_string)\n",
    "    processed_string = processed_string.strip()\n",
    "\n",
    "    return processed_string"
   ]
  },
  {
   "cell_type": "code",
   "execution_count": 118,
   "metadata": {},
   "outputs": [],
   "source": [
    "def lower_string(s):\n",
    "    return s.lower()"
   ]
  },
  {
   "cell_type": "code",
   "execution_count": 119,
   "metadata": {},
   "outputs": [],
   "source": [
    "def remove_articles(s):\n",
    "    stopwords = {'what', 'who', 'a', 'the', 'an', 'at', 'and'}\n",
    "    removed_articles = [word for word in re.split(\"\\W+\", s) if word.lower() not in stopwords]\n",
    "    removed_articles_string = ' '.join(removed_articles)\n",
    "    return removed_articles_string"
   ]
  },
  {
   "cell_type": "code",
   "execution_count": 120,
   "metadata": {},
   "outputs": [],
   "source": [
    "def stem(s):\n",
    "    array_string = s.split(' ')\n",
    "    r_string = [ps.stem(x) for x in array_string]\n",
    "    return \" \".join(r_string)"
   ]
  },
  {
   "cell_type": "code",
   "execution_count": 121,
   "metadata": {},
   "outputs": [],
   "source": [
    "#post preprocessing of the mega article, let's split these into individual articles"
   ]
  },
  {
   "cell_type": "code",
   "execution_count": 126,
   "metadata": {},
   "outputs": [],
   "source": [
    "def analysis_articles():\n",
    "    mega_donk = open('/Users/weichiang/Desktop/warpeace_input.txt', 'r', encoding='utf-8')\n",
    "    mega = mega_donk.read()\n",
    "    reviews = mega.split('\\n')\n",
    "    # amnt_reviews = ' '.join(reviews)\n",
    "    reviews_len = [len(x) for x in reviews]\n",
    "#     print(len(reviews_len))\n",
    "    pd.Series(reviews_len).hist()\n",
    "    plt.show()\n",
    "    pd.Series(reviews_len).describe()\n",
    "    # words = ' '.join(reviews).split()\n",
    "\n",
    "    #if the article is longer than 1 word long, then you keep it here\n",
    "    #replot afterwards\n",
    "    reviews_len = [reviews_len[index] for index, length in enumerate(reviews_len) if length>0]\n",
    "#     print(len(reviews_len))\n",
    "#     print(reviews_len)\n",
    "    pd.Series(reviews_len).hist()\n",
    "    plt.show()\n",
    "    pd.Series(reviews_len).describe()\n",
    "\n",
    "    #non-necessary right now to create the dictionary going reversed, will find a thing to do this later\n",
    "    # counter = Counter(words)\n",
    "    # dict_counter = dict(counter)\n",
    "    # sorted(dict_counter.items(), key=lambda item: item[1], reverse = True)\n",
    "    # reviews\n",
    "        #frequency of most common words\n",
    "    \n",
    "    "
   ]
  },
  {
   "cell_type": "code",
   "execution_count": 127,
   "metadata": {},
   "outputs": [
    {
     "data": {
      "image/png": "[encoded data removed]",
      "text/plain": [
       "<Figure size 432x288 with 1 Axes>"
      ]
     },
     "metadata": {
      "needs_background": "light"
     },
     "output_type": "display_data"
    },
    {
     "data": {
      "image/png": "[encoded data removed]",
      "text/plain": [
       "<Figure size 432x288 with 1 Axes>"
      ]
     },
     "metadata": {
      "needs_background": "light"
     },
     "output_type": "display_data"
    }
   ],
   "source": [
    "analysis_articles()"
   ]
  },
  {
   "cell_type": "code",
   "execution_count": 123,
   "metadata": {},
   "outputs": [],
   "source": [
    "def tf_idf(data_frame):\n",
    "    v = TfidfVectorizer()\n",
    "    tf_idf_array = v.fit_transform(data_frame['Article'])\n",
    "    return tf_idf_array.toarray()"
   ]
  }
 ],
 "metadata": {
  "kernelspec": {
   "display_name": "Python 3",
   "language": "python",
   "name": "python3"
  },
  "language_info": {
   "codemirror_mode": {
    "name": "ipython",
    "version": 3
   },
   "file_extension": ".py",
   "mimetype": "text/x-python",
   "name": "python",
   "nbconvert_exporter": "python",
   "pygments_lexer": "ipython3",
   "version": "3.7.3"
  }
 },
 "nbformat": 4,
 "nbformat_minor": 2
}
