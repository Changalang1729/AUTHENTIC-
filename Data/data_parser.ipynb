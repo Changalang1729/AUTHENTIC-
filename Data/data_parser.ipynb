{
 "cells": [
  {
   "cell_type": "code",
   "execution_count": 148,
   "metadata": {},
   "outputs": [],
   "source": [
    "import os\n",
    "import csv\n",
    "from distutils.dir_util import copy_tree"
   ]
  },
  {
   "cell_type": "code",
   "execution_count": 149,
   "metadata": {},
   "outputs": [],
   "source": [
    "# update the working directory (change Right or Left depending on data you are extracting)\n",
    "os.chdir('/Users/ashtonwinters/Desktop/News/Right')"
   ]
  },
  {
   "cell_type": "code",
   "execution_count": 150,
   "metadata": {},
   "outputs": [
    {
     "name": "stdout",
     "output_type": "stream",
     "text": [
      "/Users/ashtonwinters/Desktop/News/Right\n",
      "2\n",
      "3\n",
      "4\n",
      "5\n",
      "6\n",
      "7\n",
      "8\n",
      "9\n",
      "10\n",
      "11\n"
     ]
    }
   ],
   "source": [
    "# go through all of the months in the data set\n",
    "for i in range (2, 12):\n",
    "    print(i)\n",
    "    month = str(i)\n",
    "    if int(month) < 10:\n",
    "        month = '0' + str(month)\n",
    "    # go through all of the days in the data set (excluding a few so there's no errors with months with different days/\n",
    "    # there's enough data to ignore a few days here and there)\n",
    "    for j in range (1, 29):\n",
    "        day = str(j)\n",
    "        if int(day) < 10:\n",
    "            day = '0' + str(day)\n",
    "        \n",
    "        # check for the data set (change the company name depending on what you want to extract from)\n",
    "        if os.path.isdir('/Users/ashtonwinters/Desktop/articles/2018-' + month + '-' + day +'/Conservative Home'):\n",
    "            fromDirectory = '/Users/ashtonwinters/Desktop/articles/2018-' + month + '-' + day +'/Conservative Home'\n",
    "            \n",
    "            # go through the files and make a csv out of them\n",
    "            for file in os.listdir(fromDirectory):\n",
    "                file_name = os.fsdecode(file)\n",
    "                title = file_name\n",
    "                new_file_name = \"_\".join(title.split())\n",
    "                new_file_name = new_file_name + \".csv\"\n",
    "                with open(fromDirectory  + '/' + file_name, 'r') as file:\n",
    "                    main_text = file.read()\n",
    "                    \n",
    "                # copy the contents to the destination folder    \n",
    "                if not os.path.exists(os.getcwd() + \"/\" + new_file_name):\n",
    "                    f = open(new_file_name, \"w+\")\n",
    "                    with open(new_file_name, 'w') as writeFile:\n",
    "                        writer = csv.writer(writeFile)\n",
    "                        writer.writerows([['Title', 'Text'], [title, main_text]])\n",
    "                    writeFile.close()"
   ]
  }
 ],
 "metadata": {
  "kernelspec": {
   "display_name": "Python 3",
   "language": "python",
   "name": "python3"
  },
  "language_info": {
   "codemirror_mode": {
    "name": "ipython",
    "version": 3
   },
   "file_extension": ".py",
   "mimetype": "text/x-python",
   "name": "python",
   "nbconvert_exporter": "python",
   "pygments_lexer": "ipython3",
   "version": "3.6.4"
  }
 },
 "nbformat": 4,
 "nbformat_minor": 2
}
